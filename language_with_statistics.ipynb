{
 "cells": [
  {
   "cell_type": "markdown",
   "metadata": {
    "colab_type": "text",
    "id": "TkRC37fK5Dgy"
   },
   "source": [
    "# Configuración Inicial"
   ]
  },
  {
   "cell_type": "code",
   "execution_count": 18,
   "metadata": {
    "colab": {},
    "colab_type": "code",
    "id": "VSj2Kb-g4laK"
   },
   "outputs": [
    {
     "name": "stderr",
     "output_type": "stream",
     "text": [
      "[nltk_data] Downloading collection 'book'\n",
      "[nltk_data]    | \n",
      "[nltk_data]    | Downloading package abc to\n",
      "[nltk_data]    |     /Users/miguepoloc/nltk_data...\n",
      "[nltk_data]    |   Package abc is already up-to-date!\n",
      "[nltk_data]    | Downloading package brown to\n",
      "[nltk_data]    |     /Users/miguepoloc/nltk_data...\n",
      "[nltk_data]    |   Package brown is already up-to-date!\n",
      "[nltk_data]    | Downloading package chat80 to\n",
      "[nltk_data]    |     /Users/miguepoloc/nltk_data...\n",
      "[nltk_data]    |   Package chat80 is already up-to-date!\n",
      "[nltk_data]    | Downloading package cmudict to\n",
      "[nltk_data]    |     /Users/miguepoloc/nltk_data...\n",
      "[nltk_data]    |   Package cmudict is already up-to-date!\n",
      "[nltk_data]    | Downloading package conll2000 to\n",
      "[nltk_data]    |     /Users/miguepoloc/nltk_data...\n",
      "[nltk_data]    |   Package conll2000 is already up-to-date!\n",
      "[nltk_data]    | Downloading package conll2002 to\n",
      "[nltk_data]    |     /Users/miguepoloc/nltk_data...\n",
      "[nltk_data]    |   Package conll2002 is already up-to-date!\n",
      "[nltk_data]    | Downloading package dependency_treebank to\n",
      "[nltk_data]    |     /Users/miguepoloc/nltk_data...\n",
      "[nltk_data]    |   Package dependency_treebank is already up-to-date!\n",
      "[nltk_data]    | Downloading package genesis to\n",
      "[nltk_data]    |     /Users/miguepoloc/nltk_data...\n",
      "[nltk_data]    |   Package genesis is already up-to-date!\n",
      "[nltk_data]    | Downloading package gutenberg to\n",
      "[nltk_data]    |     /Users/miguepoloc/nltk_data...\n",
      "[nltk_data]    |   Package gutenberg is already up-to-date!\n",
      "[nltk_data]    | Downloading package ieer to\n",
      "[nltk_data]    |     /Users/miguepoloc/nltk_data...\n",
      "[nltk_data]    |   Package ieer is already up-to-date!\n",
      "[nltk_data]    | Downloading package inaugural to\n",
      "[nltk_data]    |     /Users/miguepoloc/nltk_data...\n",
      "[nltk_data]    |   Package inaugural is already up-to-date!\n",
      "[nltk_data]    | Downloading package movie_reviews to\n",
      "[nltk_data]    |     /Users/miguepoloc/nltk_data...\n",
      "[nltk_data]    |   Package movie_reviews is already up-to-date!\n",
      "[nltk_data]    | Downloading package nps_chat to\n",
      "[nltk_data]    |     /Users/miguepoloc/nltk_data...\n",
      "[nltk_data]    |   Package nps_chat is already up-to-date!\n",
      "[nltk_data]    | Downloading package names to\n",
      "[nltk_data]    |     /Users/miguepoloc/nltk_data...\n",
      "[nltk_data]    |   Package names is already up-to-date!\n",
      "[nltk_data]    | Downloading package ppattach to\n",
      "[nltk_data]    |     /Users/miguepoloc/nltk_data...\n",
      "[nltk_data]    |   Package ppattach is already up-to-date!\n",
      "[nltk_data]    | Downloading package reuters to\n",
      "[nltk_data]    |     /Users/miguepoloc/nltk_data...\n",
      "[nltk_data]    |   Package reuters is already up-to-date!\n",
      "[nltk_data]    | Downloading package senseval to\n",
      "[nltk_data]    |     /Users/miguepoloc/nltk_data...\n",
      "[nltk_data]    |   Package senseval is already up-to-date!\n",
      "[nltk_data]    | Downloading package state_union to\n",
      "[nltk_data]    |     /Users/miguepoloc/nltk_data...\n",
      "[nltk_data]    |   Package state_union is already up-to-date!\n",
      "[nltk_data]    | Downloading package stopwords to\n",
      "[nltk_data]    |     /Users/miguepoloc/nltk_data...\n",
      "[nltk_data]    |   Package stopwords is already up-to-date!\n",
      "[nltk_data]    | Downloading package swadesh to\n",
      "[nltk_data]    |     /Users/miguepoloc/nltk_data...\n",
      "[nltk_data]    |   Package swadesh is already up-to-date!\n",
      "[nltk_data]    | Downloading package timit to\n",
      "[nltk_data]    |     /Users/miguepoloc/nltk_data...\n",
      "[nltk_data]    |   Package timit is already up-to-date!\n",
      "[nltk_data]    | Downloading package treebank to\n",
      "[nltk_data]    |     /Users/miguepoloc/nltk_data...\n",
      "[nltk_data]    |   Package treebank is already up-to-date!\n",
      "[nltk_data]    | Downloading package toolbox to\n",
      "[nltk_data]    |     /Users/miguepoloc/nltk_data...\n",
      "[nltk_data]    |   Package toolbox is already up-to-date!\n",
      "[nltk_data]    | Downloading package udhr to\n",
      "[nltk_data]    |     /Users/miguepoloc/nltk_data...\n",
      "[nltk_data]    |   Package udhr is already up-to-date!\n",
      "[nltk_data]    | Downloading package udhr2 to\n",
      "[nltk_data]    |     /Users/miguepoloc/nltk_data...\n",
      "[nltk_data]    |   Package udhr2 is already up-to-date!\n",
      "[nltk_data]    | Downloading package unicode_samples to\n",
      "[nltk_data]    |     /Users/miguepoloc/nltk_data...\n",
      "[nltk_data]    |   Package unicode_samples is already up-to-date!\n",
      "[nltk_data]    | Downloading package webtext to\n",
      "[nltk_data]    |     /Users/miguepoloc/nltk_data...\n",
      "[nltk_data]    |   Package webtext is already up-to-date!\n",
      "[nltk_data]    | Downloading package wordnet to\n",
      "[nltk_data]    |     /Users/miguepoloc/nltk_data...\n",
      "[nltk_data]    |   Package wordnet is already up-to-date!\n",
      "[nltk_data]    | Downloading package wordnet_ic to\n",
      "[nltk_data]    |     /Users/miguepoloc/nltk_data...\n",
      "[nltk_data]    |   Package wordnet_ic is already up-to-date!\n",
      "[nltk_data]    | Downloading package words to\n",
      "[nltk_data]    |     /Users/miguepoloc/nltk_data...\n",
      "[nltk_data]    |   Package words is already up-to-date!\n",
      "[nltk_data]    | Downloading package maxent_treebank_pos_tagger to\n",
      "[nltk_data]    |     /Users/miguepoloc/nltk_data...\n",
      "[nltk_data]    |   Package maxent_treebank_pos_tagger is already up-\n",
      "[nltk_data]    |       to-date!\n",
      "[nltk_data]    | Downloading package maxent_ne_chunker to\n",
      "[nltk_data]    |     /Users/miguepoloc/nltk_data...\n",
      "[nltk_data]    |   Package maxent_ne_chunker is already up-to-date!\n",
      "[nltk_data]    | Downloading package universal_tagset to\n",
      "[nltk_data]    |     /Users/miguepoloc/nltk_data...\n",
      "[nltk_data]    |   Package universal_tagset is already up-to-date!\n",
      "[nltk_data]    | Downloading package punkt to\n",
      "[nltk_data]    |     /Users/miguepoloc/nltk_data...\n",
      "[nltk_data]    |   Package punkt is already up-to-date!\n",
      "[nltk_data]    | Downloading package book_grammars to\n",
      "[nltk_data]    |     /Users/miguepoloc/nltk_data...\n",
      "[nltk_data]    |   Package book_grammars is already up-to-date!\n",
      "[nltk_data]    | Downloading package city_database to\n",
      "[nltk_data]    |     /Users/miguepoloc/nltk_data...\n",
      "[nltk_data]    |   Package city_database is already up-to-date!\n",
      "[nltk_data]    | Downloading package tagsets to\n",
      "[nltk_data]    |     /Users/miguepoloc/nltk_data...\n",
      "[nltk_data]    |   Package tagsets is already up-to-date!\n",
      "[nltk_data]    | Downloading package panlex_swadesh to\n",
      "[nltk_data]    |     /Users/miguepoloc/nltk_data...\n",
      "[nltk_data]    |   Package panlex_swadesh is already up-to-date!\n",
      "[nltk_data]    | Downloading package averaged_perceptron_tagger to\n",
      "[nltk_data]    |     /Users/miguepoloc/nltk_data...\n",
      "[nltk_data]    |   Package averaged_perceptron_tagger is already up-\n",
      "[nltk_data]    |       to-date!\n",
      "[nltk_data]    | \n",
      "[nltk_data]  Done downloading collection book\n"
     ]
    }
   ],
   "source": [
    "import nltk \n",
    "nltk.download('book')\n",
    "from nltk.book import *\n",
    "import matplotlib.pyplot as plt\n",
    "import numpy as np\n",
    "import pandas as pd\n",
    "import plotly.express as px"
   ]
  },
  {
   "cell_type": "markdown",
   "metadata": {
    "colab_type": "text",
    "id": "c_O4LOql9DE2"
   },
   "source": [
    "#Bi-gramas\n",
    "* Parejas de palabras que ocurren consecutivas."
   ]
  },
  {
   "cell_type": "code",
   "execution_count": 3,
   "metadata": {
    "colab": {
     "base_uri": "https://localhost:8080/",
     "height": 201
    },
    "colab_type": "code",
    "executionInfo": {
     "elapsed": 8359,
     "status": "ok",
     "timestamp": 1582037802423,
     "user": {
      "displayName": "Francisco Camacho",
      "photoUrl": "https://lh3.googleusercontent.com/a-/AAuE7mCUaNNj72-A-ZLpzeOCw1kooH47L4wGZaSy6fUG=s64",
      "userId": "03320326049189164988"
     },
     "user_tz": 300
    },
    "id": "WerSeepu9J6a",
    "outputId": "f8a3e8df-6cbf-45f1-e3c6-483a71f3615f"
   },
   "outputs": [
    {
     "data": {
      "text/plain": [
       "[('[', 'Moby'),\n",
       " ('Moby', 'Dick'),\n",
       " ('Dick', 'by'),\n",
       " ('by', 'Herman'),\n",
       " ('Herman', 'Melville'),\n",
       " ('Melville', '1851'),\n",
       " ('1851', ']'),\n",
       " (']', 'ETYMOLOGY'),\n",
       " ('ETYMOLOGY', '.'),\n",
       " ('.', '(')]"
      ]
     },
     "execution_count": 3,
     "metadata": {},
     "output_type": "execute_result"
    }
   ],
   "source": [
    "md_bigrams = list(bigrams(text1))\n",
    "fdist = FreqDist(md_bigrams)\n",
    "md_bigrams[:10]"
   ]
  },
  {
   "cell_type": "markdown",
   "metadata": {
    "colab_type": "text",
    "id": "x-bYnXwHk9Nh"
   },
   "source": [
    "Aqui podemos obtener los bi-gramas más frecuentes en este texto:"
   ]
  },
  {
   "cell_type": "code",
   "execution_count": 4,
   "metadata": {
    "colab": {
     "base_uri": "https://localhost:8080/",
     "height": 201
    },
    "colab_type": "code",
    "executionInfo": {
     "elapsed": 8351,
     "status": "ok",
     "timestamp": 1582037802424,
     "user": {
      "displayName": "Francisco Camacho",
      "photoUrl": "https://lh3.googleusercontent.com/a-/AAuE7mCUaNNj72-A-ZLpzeOCw1kooH47L4wGZaSy6fUG=s64",
      "userId": "03320326049189164988"
     },
     "user_tz": 300
    },
    "id": "hehIQHExkR9W",
    "outputId": "083c608b-9c65-4825-abd7-bc69a6052c81"
   },
   "outputs": [
    {
     "data": {
      "text/plain": [
       "[((',', 'and'), 2607),\n",
       " (('of', 'the'), 1847),\n",
       " ((\"'\", 's'), 1737),\n",
       " (('in', 'the'), 1120),\n",
       " ((',', 'the'), 908),\n",
       " ((';', 'and'), 853),\n",
       " (('to', 'the'), 712),\n",
       " (('.', 'But'), 596),\n",
       " ((',', 'that'), 584),\n",
       " (('.', '\"'), 557)]"
      ]
     },
     "execution_count": 4,
     "metadata": {},
     "output_type": "execute_result"
    }
   ],
   "source": [
    "fdist.most_common(10)"
   ]
  },
  {
   "cell_type": "code",
   "execution_count": 5,
   "metadata": {
    "colab": {
     "base_uri": "https://localhost:8080/",
     "height": 360
    },
    "colab_type": "code",
    "executionInfo": {
     "elapsed": 8518,
     "status": "ok",
     "timestamp": 1582037802599,
     "user": {
      "displayName": "Francisco Camacho",
      "photoUrl": "https://lh3.googleusercontent.com/a-/AAuE7mCUaNNj72-A-ZLpzeOCw1kooH47L4wGZaSy6fUG=s64",
      "userId": "03320326049189164988"
     },
     "user_tz": 300
    },
    "id": "zFyQxISllDgX",
    "outputId": "760fe030-6387-4229-d132-7f2892273742"
   },
   "outputs": [
    {
     "data": {
      "text/plain": [
       "<Axes: xlabel='Samples', ylabel='Counts'>"
      ]
     },
     "execution_count": 5,
     "metadata": {},
     "output_type": "execute_result"
    },
    {
     "data": {
      "image/png": "[encoded data removed]",
      "text/plain": [
       "<Figure size 640x480 with 1 Axes>"
      ]
     },
     "metadata": {},
     "output_type": "display_data"
    }
   ],
   "source": [
    "fdist.plot(20)"
   ]
  },
  {
   "cell_type": "markdown",
   "metadata": {
    "colab_type": "text",
    "id": "hdVJ-IG5lVkJ"
   },
   "source": [
    "## Filtrado de bi-gramas\n",
    "* Sin embargo, observamos que los bi-gramas más comunes no representan realmente frases o estructuras léxicas de interes.\n",
    "* Tal vez, aplicar algun tipo de filtro nos permita ver estructuras más relevantes."
   ]
  },
  {
   "cell_type": "code",
   "execution_count": 6,
   "metadata": {
    "colab": {
     "base_uri": "https://localhost:8080/",
     "height": 377
    },
    "colab_type": "code",
    "executionInfo": {
     "elapsed": 8781,
     "status": "ok",
     "timestamp": 1582037802873,
     "user": {
      "displayName": "Francisco Camacho",
      "photoUrl": "https://lh3.googleusercontent.com/a-/AAuE7mCUaNNj72-A-ZLpzeOCw1kooH47L4wGZaSy6fUG=s64",
      "userId": "03320326049189164988"
     },
     "user_tz": 300
    },
    "id": "GIFOQKSHnMib",
    "outputId": "09acca6d-7e98-4045-f978-c34d64c7f89e"
   },
   "outputs": [
    {
     "data": {
      "text/plain": [
       "<Axes: xlabel='Samples', ylabel='Counts'>"
      ]
     },
     "execution_count": 6,
     "metadata": {},
     "output_type": "execute_result"
    },
    {
     "data": {
      "image/png": "[encoded data removed]",
      "text/plain": [
       "<Figure size 640x480 with 1 Axes>"
      ]
     },
     "metadata": {},
     "output_type": "display_data"
    }
   ],
   "source": [
    "threshold = 2\n",
    "filtered_bigrams = [bigram for bigram in md_bigrams if len(bigram[0])>threshold and len(bigram[1])>threshold]\n",
    "filtered_dist = FreqDist(filtered_bigrams)\n",
    "filtered_dist.plot(20)"
   ]
  },
  {
   "cell_type": "markdown",
   "metadata": {
    "colab_type": "text",
    "id": "JAbaY3DapHzk"
   },
   "source": [
    "# Tri-gramas"
   ]
  },
  {
   "cell_type": "code",
   "execution_count": 7,
   "metadata": {
    "colab": {
     "base_uri": "https://localhost:8080/",
     "height": 201
    },
    "colab_type": "code",
    "executionInfo": {
     "elapsed": 9553,
     "status": "ok",
     "timestamp": 1582037803655,
     "user": {
      "displayName": "Francisco Camacho",
      "photoUrl": "https://lh3.googleusercontent.com/a-/AAuE7mCUaNNj72-A-ZLpzeOCw1kooH47L4wGZaSy6fUG=s64",
      "userId": "03320326049189164988"
     },
     "user_tz": 300
    },
    "id": "eE9ojvxvpOZ9",
    "outputId": "8da58229-ecb9-4a2c-ac7a-962755f1ed17"
   },
   "outputs": [
    {
     "data": {
      "text/plain": [
       "[('[', 'Moby', 'Dick'),\n",
       " ('Moby', 'Dick', 'by'),\n",
       " ('Dick', 'by', 'Herman'),\n",
       " ('by', 'Herman', 'Melville'),\n",
       " ('Herman', 'Melville', '1851'),\n",
       " ('Melville', '1851', ']'),\n",
       " ('1851', ']', 'ETYMOLOGY'),\n",
       " (']', 'ETYMOLOGY', '.'),\n",
       " ('ETYMOLOGY', '.', '('),\n",
       " ('.', '(', 'Supplied')]"
      ]
     },
     "execution_count": 7,
     "metadata": {},
     "output_type": "execute_result"
    }
   ],
   "source": [
    "from nltk.util import ngrams\n",
    "md_trigrams = list(ngrams(text1,3))\n",
    "fdist = FreqDist(md_trigrams)\n",
    "md_trigrams[:10]"
   ]
  },
  {
   "cell_type": "code",
   "execution_count": 8,
   "metadata": {
    "colab": {
     "base_uri": "https://localhost:8080/",
     "height": 201
    },
    "colab_type": "code",
    "executionInfo": {
     "elapsed": 9547,
     "status": "ok",
     "timestamp": 1582037803656,
     "user": {
      "displayName": "Francisco Camacho",
      "photoUrl": "https://lh3.googleusercontent.com/a-/AAuE7mCUaNNj72-A-ZLpzeOCw1kooH47L4wGZaSy6fUG=s64",
      "userId": "03320326049189164988"
     },
     "user_tz": 300
    },
    "id": "FsjKpyrUqEpi",
    "outputId": "14d16b0e-5b59-4fa0-f101-7b2c68747059"
   },
   "outputs": [
    {
     "data": {
      "text/plain": [
       "[((',', 'and', 'the'), 187),\n",
       " (('don', \"'\", 't'), 103),\n",
       " (('of', 'the', 'whale'), 101),\n",
       " ((',', 'in', 'the'), 93),\n",
       " ((',', 'then', ','), 87),\n",
       " (('whale', \"'\", 's'), 81),\n",
       " (('.', 'It', 'was'), 81),\n",
       " (('ship', \"'\", 's'), 80),\n",
       " (('the', 'Sperm', 'Whale'), 77),\n",
       " ((',', 'as', 'if'), 76)]"
      ]
     },
     "execution_count": 8,
     "metadata": {},
     "output_type": "execute_result"
    }
   ],
   "source": [
    "fdist.most_common(10)"
   ]
  },
  {
   "cell_type": "code",
   "execution_count": 9,
   "metadata": {
    "colab": {
     "base_uri": "https://localhost:8080/",
     "height": 405
    },
    "colab_type": "code",
    "executionInfo": {
     "elapsed": 9540,
     "status": "ok",
     "timestamp": 1582037803657,
     "user": {
      "displayName": "Francisco Camacho",
      "photoUrl": "https://lh3.googleusercontent.com/a-/AAuE7mCUaNNj72-A-ZLpzeOCw1kooH47L4wGZaSy6fUG=s64",
      "userId": "03320326049189164988"
     },
     "user_tz": 300
    },
    "id": "iGOyRLVqqIVS",
    "outputId": "4da9fc8e-fdec-4b68-98a6-f5e32d1ef16a"
   },
   "outputs": [
    {
     "data": {
      "text/plain": [
       "<Axes: xlabel='Samples', ylabel='Counts'>"
      ]
     },
     "execution_count": 9,
     "metadata": {},
     "output_type": "execute_result"
    },
    {
     "data": {
      "image/png": "[encoded data removed]",
      "text/plain": [
       "<Figure size 640x480 with 1 Axes>"
      ]
     },
     "metadata": {},
     "output_type": "display_data"
    }
   ],
   "source": [
    "fdist.plot(10)"
   ]
  },
  {
   "cell_type": "markdown",
   "metadata": {
    "colab_type": "text",
    "id": "0F99OFag5QHW"
   },
   "source": [
    "# Collocations (Colocaciones)\n",
    "\n",
    "* Son secuencias de palabras que suelen ocurrir en textos o conversaciones con una **frecuencia inusualmente alta** [NLTK doc](http://www.nltk.org/book/ch01.html)\n",
    "* Las colocaciones de una palabra son declaraciones formales de donde suele ubicarse tipicamente esa palabra [Manning & Schütze, 1990, Foundations of Statistical Natural Language Processing, Capítulo 6](https://nlp.stanford.edu/fsnlp/)"
   ]
  },
  {
   "cell_type": "code",
   "execution_count": 10,
   "metadata": {
    "colab": {
     "base_uri": "https://localhost:8080/",
     "height": 411
    },
    "colab_type": "code",
    "executionInfo": {
     "elapsed": 10616,
     "status": "ok",
     "timestamp": 1582037804743,
     "user": {
      "displayName": "Francisco Camacho",
      "photoUrl": "https://lh3.googleusercontent.com/a-/AAuE7mCUaNNj72-A-ZLpzeOCw1kooH47L4wGZaSy6fUG=s64",
      "userId": "03320326049189164988"
     },
     "user_tz": 300
    },
    "id": "34x4NpnVndyo",
    "outputId": "10b03ce3-fc88-4be7-dc8e-5f2b5caddfb8"
   },
   "outputs": [
    {
     "data": {
      "text/html": [
       "<div>\n",
       "<style scoped>\n",
       "    .dataframe tbody tr th:only-of-type {\n",
       "        vertical-align: middle;\n",
       "    }\n",
       "\n",
       "    .dataframe tbody tr th {\n",
       "        vertical-align: top;\n",
       "    }\n",
       "\n",
       "    .dataframe thead th {\n",
       "        text-align: right;\n",
       "    }\n",
       "</style>\n",
       "<table border=\"1\" class=\"dataframe\">\n",
       "  <thead>\n",
       "    <tr style=\"text-align: right;\">\n",
       "      <th></th>\n",
       "      <th>bi_gram</th>\n",
       "      <th>word_0</th>\n",
       "      <th>word_1</th>\n",
       "      <th>bi_gram_freq</th>\n",
       "      <th>word_0_freq</th>\n",
       "      <th>word_1_freq</th>\n",
       "    </tr>\n",
       "  </thead>\n",
       "  <tbody>\n",
       "    <tr>\n",
       "      <th>0</th>\n",
       "      <td>(very, queer)</td>\n",
       "      <td>very</td>\n",
       "      <td>queer</td>\n",
       "      <td>3</td>\n",
       "      <td>311</td>\n",
       "      <td>44</td>\n",
       "    </tr>\n",
       "    <tr>\n",
       "      <th>1</th>\n",
       "      <td>(all, cursing)</td>\n",
       "      <td>all</td>\n",
       "      <td>cursing</td>\n",
       "      <td>1</td>\n",
       "      <td>1462</td>\n",
       "      <td>1</td>\n",
       "    </tr>\n",
       "    <tr>\n",
       "      <th>2</th>\n",
       "      <td>(here, alluded)</td>\n",
       "      <td>here</td>\n",
       "      <td>alluded</td>\n",
       "      <td>2</td>\n",
       "      <td>272</td>\n",
       "      <td>6</td>\n",
       "    </tr>\n",
       "    <tr>\n",
       "      <th>3</th>\n",
       "      <td>(the, frightened)</td>\n",
       "      <td>the</td>\n",
       "      <td>frightened</td>\n",
       "      <td>3</td>\n",
       "      <td>13721</td>\n",
       "      <td>6</td>\n",
       "    </tr>\n",
       "    <tr>\n",
       "      <th>4</th>\n",
       "      <td>(his, hot)</td>\n",
       "      <td>his</td>\n",
       "      <td>hot</td>\n",
       "      <td>1</td>\n",
       "      <td>2459</td>\n",
       "      <td>23</td>\n",
       "    </tr>\n",
       "    <tr>\n",
       "      <th>...</th>\n",
       "      <td>...</td>\n",
       "      <td>...</td>\n",
       "      <td>...</td>\n",
       "      <td>...</td>\n",
       "      <td>...</td>\n",
       "      <td>...</td>\n",
       "    </tr>\n",
       "    <tr>\n",
       "      <th>67937</th>\n",
       "      <td>(truth, was)</td>\n",
       "      <td>truth</td>\n",
       "      <td>was</td>\n",
       "      <td>1</td>\n",
       "      <td>30</td>\n",
       "      <td>1632</td>\n",
       "    </tr>\n",
       "    <tr>\n",
       "      <th>67938</th>\n",
       "      <td>(become, pursed)</td>\n",
       "      <td>become</td>\n",
       "      <td>pursed</td>\n",
       "      <td>1</td>\n",
       "      <td>28</td>\n",
       "      <td>1</td>\n",
       "    </tr>\n",
       "    <tr>\n",
       "      <th>67939</th>\n",
       "      <td>(emptied, into)</td>\n",
       "      <td>emptied</td>\n",
       "      <td>into</td>\n",
       "      <td>1</td>\n",
       "      <td>3</td>\n",
       "      <td>520</td>\n",
       "    </tr>\n",
       "    <tr>\n",
       "      <th>67940</th>\n",
       "      <td>(And, has)</td>\n",
       "      <td>And</td>\n",
       "      <td>has</td>\n",
       "      <td>1</td>\n",
       "      <td>369</td>\n",
       "      <td>287</td>\n",
       "    </tr>\n",
       "    <tr>\n",
       "      <th>67941</th>\n",
       "      <td>(was, created)</td>\n",
       "      <td>was</td>\n",
       "      <td>created</td>\n",
       "      <td>1</td>\n",
       "      <td>1632</td>\n",
       "      <td>6</td>\n",
       "    </tr>\n",
       "  </tbody>\n",
       "</table>\n",
       "<p>67942 rows × 6 columns</p>\n",
       "</div>"
      ],
      "text/plain": [
       "                 bi_gram   word_0      word_1  bi_gram_freq  word_0_freq  \\\n",
       "0          (very, queer)     very       queer             3          311   \n",
       "1         (all, cursing)      all     cursing             1         1462   \n",
       "2        (here, alluded)     here     alluded             2          272   \n",
       "3      (the, frightened)      the  frightened             3        13721   \n",
       "4             (his, hot)      his         hot             1         2459   \n",
       "...                  ...      ...         ...           ...          ...   \n",
       "67937       (truth, was)    truth         was             1           30   \n",
       "67938   (become, pursed)   become      pursed             1           28   \n",
       "67939    (emptied, into)  emptied        into             1            3   \n",
       "67940         (And, has)      And         has             1          369   \n",
       "67941     (was, created)      was     created             1         1632   \n",
       "\n",
       "       word_1_freq  \n",
       "0               44  \n",
       "1                1  \n",
       "2                6  \n",
       "3                6  \n",
       "4               23  \n",
       "...            ...  \n",
       "67937         1632  \n",
       "67938            1  \n",
       "67939          520  \n",
       "67940          287  \n",
       "67941            6  \n",
       "\n",
       "[67942 rows x 6 columns]"
      ]
     },
     "execution_count": 10,
     "metadata": {},
     "output_type": "execute_result"
    }
   ],
   "source": [
    "md_bigrams = list(bigrams(text1))\n",
    "\n",
    "threshold = 2\n",
    "#distribution of bi-grams\n",
    "filtered_bigrams = [bigram for bigram in md_bigrams if len(bigram[0])>threshold and len(bigram[1])>threshold]\n",
    "filtered_bigram_dist = FreqDist(filtered_bigrams)\n",
    "#distribution of words\n",
    "filtered_words = [word for word in text1 if len(word)>threshold]\n",
    "filtered_word_dist = FreqDist(filtered_words)\n",
    "\n",
    "df = pd.DataFrame()\n",
    "df['bi_gram'] = list(set(filtered_bigrams))\n",
    "df['word_0'] = df['bi_gram'].apply(lambda x: x[0])\n",
    "df['word_1'] = df['bi_gram'].apply(lambda x: x[1])\n",
    "df['bi_gram_freq'] = df['bi_gram'].apply(lambda x: filtered_bigram_dist[x])\n",
    "df['word_0_freq'] = df['word_0'].apply(lambda x: filtered_word_dist[x])\n",
    "df['word_1_freq'] = df['word_1'].apply(lambda x: filtered_word_dist[x])\n",
    "df"
   ]
  },
  {
   "cell_type": "markdown",
   "metadata": {
    "colab_type": "text",
    "id": "7E_gNms8s1Zo"
   },
   "source": [
    "# Pointwise Mutual Information (PMI)\n",
    "Una métrica basada en _teoria de la información_ para encontrar **Collocations**.\n",
    "\n",
    "$$\n",
    "PMI = \\log\\left(\\frac{P(w_1, w_2)}{P(w_1)P(w_2)}\\right)\n",
    "$$"
   ]
  },
  {
   "cell_type": "code",
   "execution_count": 11,
   "metadata": {
    "colab": {
     "base_uri": "https://localhost:8080/",
     "height": 411
    },
    "colab_type": "code",
    "executionInfo": {
     "elapsed": 11491,
     "status": "ok",
     "timestamp": 1582037805626,
     "user": {
      "displayName": "Francisco Camacho",
      "photoUrl": "https://lh3.googleusercontent.com/a-/AAuE7mCUaNNj72-A-ZLpzeOCw1kooH47L4wGZaSy6fUG=s64",
      "userId": "03320326049189164988"
     },
     "user_tz": 300
    },
    "id": "NlPVa4l5qASe",
    "outputId": "018d80ee-8c31-4ff8-f1e1-6dbcb51be49e"
   },
   "outputs": [
    {
     "data": {
      "text/html": [
       "<div>\n",
       "<style scoped>\n",
       "    .dataframe tbody tr th:only-of-type {\n",
       "        vertical-align: middle;\n",
       "    }\n",
       "\n",
       "    .dataframe tbody tr th {\n",
       "        vertical-align: top;\n",
       "    }\n",
       "\n",
       "    .dataframe thead th {\n",
       "        text-align: right;\n",
       "    }\n",
       "</style>\n",
       "<table border=\"1\" class=\"dataframe\">\n",
       "  <thead>\n",
       "    <tr style=\"text-align: right;\">\n",
       "      <th></th>\n",
       "      <th>bi_gram</th>\n",
       "      <th>word_0</th>\n",
       "      <th>word_1</th>\n",
       "      <th>bi_gram_freq</th>\n",
       "      <th>word_0_freq</th>\n",
       "      <th>word_1_freq</th>\n",
       "      <th>PMI</th>\n",
       "      <th>log(bi_gram_freq)</th>\n",
       "    </tr>\n",
       "  </thead>\n",
       "  <tbody>\n",
       "    <tr>\n",
       "      <th>0</th>\n",
       "      <td>(very, queer)</td>\n",
       "      <td>very</td>\n",
       "      <td>queer</td>\n",
       "      <td>3</td>\n",
       "      <td>311</td>\n",
       "      <td>44</td>\n",
       "      <td>-12.155240</td>\n",
       "      <td>1.584963</td>\n",
       "    </tr>\n",
       "    <tr>\n",
       "      <th>1</th>\n",
       "      <td>(all, cursing)</td>\n",
       "      <td>all</td>\n",
       "      <td>cursing</td>\n",
       "      <td>1</td>\n",
       "      <td>1462</td>\n",
       "      <td>1</td>\n",
       "      <td>-10.513728</td>\n",
       "      <td>0.000000</td>\n",
       "    </tr>\n",
       "    <tr>\n",
       "      <th>2</th>\n",
       "      <td>(here, alluded)</td>\n",
       "      <td>here</td>\n",
       "      <td>alluded</td>\n",
       "      <td>2</td>\n",
       "      <td>272</td>\n",
       "      <td>6</td>\n",
       "      <td>-9.672425</td>\n",
       "      <td>1.000000</td>\n",
       "    </tr>\n",
       "    <tr>\n",
       "      <th>3</th>\n",
       "      <td>(the, frightened)</td>\n",
       "      <td>the</td>\n",
       "      <td>frightened</td>\n",
       "      <td>3</td>\n",
       "      <td>13721</td>\n",
       "      <td>6</td>\n",
       "      <td>-14.744098</td>\n",
       "      <td>1.584963</td>\n",
       "    </tr>\n",
       "    <tr>\n",
       "      <th>4</th>\n",
       "      <td>(his, hot)</td>\n",
       "      <td>his</td>\n",
       "      <td>hot</td>\n",
       "      <td>1</td>\n",
       "      <td>2459</td>\n",
       "      <td>23</td>\n",
       "      <td>-15.787418</td>\n",
       "      <td>0.000000</td>\n",
       "    </tr>\n",
       "    <tr>\n",
       "      <th>...</th>\n",
       "      <td>...</td>\n",
       "      <td>...</td>\n",
       "      <td>...</td>\n",
       "      <td>...</td>\n",
       "      <td>...</td>\n",
       "      <td>...</td>\n",
       "      <td>...</td>\n",
       "      <td>...</td>\n",
       "    </tr>\n",
       "    <tr>\n",
       "      <th>67937</th>\n",
       "      <td>(truth, was)</td>\n",
       "      <td>truth</td>\n",
       "      <td>was</td>\n",
       "      <td>1</td>\n",
       "      <td>30</td>\n",
       "      <td>1632</td>\n",
       "      <td>-15.579316</td>\n",
       "      <td>0.000000</td>\n",
       "    </tr>\n",
       "    <tr>\n",
       "      <th>67938</th>\n",
       "      <td>(become, pursed)</td>\n",
       "      <td>become</td>\n",
       "      <td>pursed</td>\n",
       "      <td>1</td>\n",
       "      <td>28</td>\n",
       "      <td>1</td>\n",
       "      <td>-4.807355</td>\n",
       "      <td>0.000000</td>\n",
       "    </tr>\n",
       "    <tr>\n",
       "      <th>67939</th>\n",
       "      <td>(emptied, into)</td>\n",
       "      <td>emptied</td>\n",
       "      <td>into</td>\n",
       "      <td>1</td>\n",
       "      <td>3</td>\n",
       "      <td>520</td>\n",
       "      <td>-10.607330</td>\n",
       "      <td>0.000000</td>\n",
       "    </tr>\n",
       "    <tr>\n",
       "      <th>67940</th>\n",
       "      <td>(And, has)</td>\n",
       "      <td>And</td>\n",
       "      <td>has</td>\n",
       "      <td>1</td>\n",
       "      <td>369</td>\n",
       "      <td>287</td>\n",
       "      <td>-16.692384</td>\n",
       "      <td>0.000000</td>\n",
       "    </tr>\n",
       "    <tr>\n",
       "      <th>67941</th>\n",
       "      <td>(was, created)</td>\n",
       "      <td>was</td>\n",
       "      <td>created</td>\n",
       "      <td>1</td>\n",
       "      <td>1632</td>\n",
       "      <td>6</td>\n",
       "      <td>-13.257388</td>\n",
       "      <td>0.000000</td>\n",
       "    </tr>\n",
       "  </tbody>\n",
       "</table>\n",
       "<p>67942 rows × 8 columns</p>\n",
       "</div>"
      ],
      "text/plain": [
       "                 bi_gram   word_0      word_1  bi_gram_freq  word_0_freq  \\\n",
       "0          (very, queer)     very       queer             3          311   \n",
       "1         (all, cursing)      all     cursing             1         1462   \n",
       "2        (here, alluded)     here     alluded             2          272   \n",
       "3      (the, frightened)      the  frightened             3        13721   \n",
       "4             (his, hot)      his         hot             1         2459   \n",
       "...                  ...      ...         ...           ...          ...   \n",
       "67937       (truth, was)    truth         was             1           30   \n",
       "67938   (become, pursed)   become      pursed             1           28   \n",
       "67939    (emptied, into)  emptied        into             1            3   \n",
       "67940         (And, has)      And         has             1          369   \n",
       "67941     (was, created)      was     created             1         1632   \n",
       "\n",
       "       word_1_freq        PMI  log(bi_gram_freq)  \n",
       "0               44 -12.155240           1.584963  \n",
       "1                1 -10.513728           0.000000  \n",
       "2                6  -9.672425           1.000000  \n",
       "3                6 -14.744098           1.584963  \n",
       "4               23 -15.787418           0.000000  \n",
       "...            ...        ...                ...  \n",
       "67937         1632 -15.579316           0.000000  \n",
       "67938            1  -4.807355           0.000000  \n",
       "67939          520 -10.607330           0.000000  \n",
       "67940          287 -16.692384           0.000000  \n",
       "67941            6 -13.257388           0.000000  \n",
       "\n",
       "[67942 rows x 8 columns]"
      ]
     },
     "execution_count": 11,
     "metadata": {},
     "output_type": "execute_result"
    }
   ],
   "source": [
    "df['PMI'] = df[['bi_gram_freq', 'word_0_freq', 'word_1_freq']].apply(lambda x:np.log2(x.values[0]/(x.values[1]*x.values[2])), axis = 1)\n",
    "df['log(bi_gram_freq)'] = df['bi_gram_freq'].apply(lambda x: np.log2(x))\n",
    "df"
   ]
  },
  {
   "cell_type": "code",
   "execution_count": 12,
   "metadata": {
    "colab": {
     "base_uri": "https://localhost:8080/",
     "height": 411
    },
    "colab_type": "code",
    "executionInfo": {
     "elapsed": 11474,
     "status": "ok",
     "timestamp": 1582037805627,
     "user": {
      "displayName": "Francisco Camacho",
      "photoUrl": "https://lh3.googleusercontent.com/a-/AAuE7mCUaNNj72-A-ZLpzeOCw1kooH47L4wGZaSy6fUG=s64",
      "userId": "03320326049189164988"
     },
     "user_tz": 300
    },
    "id": "1DACToLnt0Bb",
    "outputId": "4a763cbc-9a72-4a33-937b-e2d909e6d828"
   },
   "outputs": [
    {
     "data": {
      "text/html": [
       "<div>\n",
       "<style scoped>\n",
       "    .dataframe tbody tr th:only-of-type {\n",
       "        vertical-align: middle;\n",
       "    }\n",
       "\n",
       "    .dataframe tbody tr th {\n",
       "        vertical-align: top;\n",
       "    }\n",
       "\n",
       "    .dataframe thead th {\n",
       "        text-align: right;\n",
       "    }\n",
       "</style>\n",
       "<table border=\"1\" class=\"dataframe\">\n",
       "  <thead>\n",
       "    <tr style=\"text-align: right;\">\n",
       "      <th></th>\n",
       "      <th>bi_gram</th>\n",
       "      <th>word_0</th>\n",
       "      <th>word_1</th>\n",
       "      <th>bi_gram_freq</th>\n",
       "      <th>word_0_freq</th>\n",
       "      <th>word_1_freq</th>\n",
       "      <th>PMI</th>\n",
       "      <th>log(bi_gram_freq)</th>\n",
       "    </tr>\n",
       "  </thead>\n",
       "  <tbody>\n",
       "    <tr>\n",
       "      <th>21807</th>\n",
       "      <td>(IMPOSING, WAY)</td>\n",
       "      <td>IMPOSING</td>\n",
       "      <td>WAY</td>\n",
       "      <td>1</td>\n",
       "      <td>1</td>\n",
       "      <td>1</td>\n",
       "      <td>0.000000</td>\n",
       "      <td>0.0</td>\n",
       "    </tr>\n",
       "    <tr>\n",
       "      <th>38346</th>\n",
       "      <td>(surly, dabs)</td>\n",
       "      <td>surly</td>\n",
       "      <td>dabs</td>\n",
       "      <td>1</td>\n",
       "      <td>1</td>\n",
       "      <td>1</td>\n",
       "      <td>0.000000</td>\n",
       "      <td>0.0</td>\n",
       "    </tr>\n",
       "    <tr>\n",
       "      <th>3497</th>\n",
       "      <td>(unmisgiving, hardihood)</td>\n",
       "      <td>unmisgiving</td>\n",
       "      <td>hardihood</td>\n",
       "      <td>1</td>\n",
       "      <td>1</td>\n",
       "      <td>1</td>\n",
       "      <td>0.000000</td>\n",
       "      <td>0.0</td>\n",
       "    </tr>\n",
       "    <tr>\n",
       "      <th>18742</th>\n",
       "      <td>(gloomiest, reserve)</td>\n",
       "      <td>gloomiest</td>\n",
       "      <td>reserve</td>\n",
       "      <td>1</td>\n",
       "      <td>1</td>\n",
       "      <td>1</td>\n",
       "      <td>0.000000</td>\n",
       "      <td>0.0</td>\n",
       "    </tr>\n",
       "    <tr>\n",
       "      <th>33839</th>\n",
       "      <td>(Gayer, sallies)</td>\n",
       "      <td>Gayer</td>\n",
       "      <td>sallies</td>\n",
       "      <td>1</td>\n",
       "      <td>1</td>\n",
       "      <td>1</td>\n",
       "      <td>0.000000</td>\n",
       "      <td>0.0</td>\n",
       "    </tr>\n",
       "    <tr>\n",
       "      <th>...</th>\n",
       "      <td>...</td>\n",
       "      <td>...</td>\n",
       "      <td>...</td>\n",
       "      <td>...</td>\n",
       "      <td>...</td>\n",
       "      <td>...</td>\n",
       "      <td>...</td>\n",
       "      <td>...</td>\n",
       "    </tr>\n",
       "    <tr>\n",
       "      <th>22036</th>\n",
       "      <td>(man, the)</td>\n",
       "      <td>man</td>\n",
       "      <td>the</td>\n",
       "      <td>1</td>\n",
       "      <td>508</td>\n",
       "      <td>13721</td>\n",
       "      <td>-22.732783</td>\n",
       "      <td>0.0</td>\n",
       "    </tr>\n",
       "    <tr>\n",
       "      <th>25555</th>\n",
       "      <td>(some, the)</td>\n",
       "      <td>some</td>\n",
       "      <td>the</td>\n",
       "      <td>1</td>\n",
       "      <td>578</td>\n",
       "      <td>13721</td>\n",
       "      <td>-22.919024</td>\n",
       "      <td>0.0</td>\n",
       "    </tr>\n",
       "    <tr>\n",
       "      <th>36305</th>\n",
       "      <td>(one, the)</td>\n",
       "      <td>one</td>\n",
       "      <td>the</td>\n",
       "      <td>1</td>\n",
       "      <td>889</td>\n",
       "      <td>13721</td>\n",
       "      <td>-23.540138</td>\n",
       "      <td>0.0</td>\n",
       "    </tr>\n",
       "    <tr>\n",
       "      <th>23626</th>\n",
       "      <td>(the, not)</td>\n",
       "      <td>the</td>\n",
       "      <td>not</td>\n",
       "      <td>1</td>\n",
       "      <td>13721</td>\n",
       "      <td>1103</td>\n",
       "      <td>-23.851315</td>\n",
       "      <td>0.0</td>\n",
       "    </tr>\n",
       "    <tr>\n",
       "      <th>3059</th>\n",
       "      <td>(the, but)</td>\n",
       "      <td>the</td>\n",
       "      <td>but</td>\n",
       "      <td>1</td>\n",
       "      <td>13721</td>\n",
       "      <td>1113</td>\n",
       "      <td>-23.864336</td>\n",
       "      <td>0.0</td>\n",
       "    </tr>\n",
       "  </tbody>\n",
       "</table>\n",
       "<p>67942 rows × 8 columns</p>\n",
       "</div>"
      ],
      "text/plain": [
       "                        bi_gram       word_0     word_1  bi_gram_freq  \\\n",
       "21807           (IMPOSING, WAY)     IMPOSING        WAY             1   \n",
       "38346             (surly, dabs)        surly       dabs             1   \n",
       "3497   (unmisgiving, hardihood)  unmisgiving  hardihood             1   \n",
       "18742      (gloomiest, reserve)    gloomiest    reserve             1   \n",
       "33839          (Gayer, sallies)        Gayer    sallies             1   \n",
       "...                         ...          ...        ...           ...   \n",
       "22036                (man, the)          man        the             1   \n",
       "25555               (some, the)         some        the             1   \n",
       "36305                (one, the)          one        the             1   \n",
       "23626                (the, not)          the        not             1   \n",
       "3059                 (the, but)          the        but             1   \n",
       "\n",
       "       word_0_freq  word_1_freq        PMI  log(bi_gram_freq)  \n",
       "21807            1            1   0.000000                0.0  \n",
       "38346            1            1   0.000000                0.0  \n",
       "3497             1            1   0.000000                0.0  \n",
       "18742            1            1   0.000000                0.0  \n",
       "33839            1            1   0.000000                0.0  \n",
       "...            ...          ...        ...                ...  \n",
       "22036          508        13721 -22.732783                0.0  \n",
       "25555          578        13721 -22.919024                0.0  \n",
       "36305          889        13721 -23.540138                0.0  \n",
       "23626        13721         1103 -23.851315                0.0  \n",
       "3059         13721         1113 -23.864336                0.0  \n",
       "\n",
       "[67942 rows x 8 columns]"
      ]
     },
     "execution_count": 12,
     "metadata": {},
     "output_type": "execute_result"
    }
   ],
   "source": [
    "df.sort_values(by = 'PMI', ascending=False)"
   ]
  },
  {
   "cell_type": "code",
   "execution_count": 19,
   "metadata": {
    "colab": {
     "base_uri": "https://localhost:8080/",
     "height": 616,
     "output_embedded_package_id": "1yCef2QV8M68idzvVO1TuL4Iah_2obsC_"
    },
    "colab_type": "code",
    "executionInfo": {
     "elapsed": 20185,
     "status": "ok",
     "timestamp": 1582037814350,
     "user": {
      "displayName": "Francisco Camacho",
      "photoUrl": "https://lh3.googleusercontent.com/a-/AAuE7mCUaNNj72-A-ZLpzeOCw1kooH47L4wGZaSy6fUG=s64",
      "userId": "03320326049189164988"
     },
     "user_tz": 300
    },
    "id": "15BzVJM3zFdy",
    "outputId": "3b65ec00-2094-40dc-c289-a63c0f5d2cc0"
   },
   "outputs": [
    {
     "ename": "ValueError",
     "evalue": "Mime type rendering requires nbformat>=4.2.0 but it is not installed",
     "output_type": "error",
     "traceback": [
      "\u001b[0;31m---------------------------------------------------------------------------\u001b[0m",
      "\u001b[0;31mValueError\u001b[0m                                Traceback (most recent call last)",
      "Cell \u001b[0;32mIn[19], line 4\u001b[0m\n\u001b[1;32m      1\u001b[0m fig \u001b[38;5;241m=\u001b[39m px\u001b[38;5;241m.\u001b[39mscatter(x \u001b[38;5;241m=\u001b[39m df[\u001b[38;5;124m'\u001b[39m\u001b[38;5;124mPMI\u001b[39m\u001b[38;5;124m'\u001b[39m]\u001b[38;5;241m.\u001b[39mvalues, y \u001b[38;5;241m=\u001b[39m df[\u001b[38;5;124m'\u001b[39m\u001b[38;5;124mlog(bi_gram_freq)\u001b[39m\u001b[38;5;124m'\u001b[39m]\u001b[38;5;241m.\u001b[39mvalues, color \u001b[38;5;241m=\u001b[39m df[\u001b[38;5;124m'\u001b[39m\u001b[38;5;124mPMI\u001b[39m\u001b[38;5;124m'\u001b[39m]\u001b[38;5;241m+\u001b[39mdf[\u001b[38;5;124m'\u001b[39m\u001b[38;5;124mlog(bi_gram_freq)\u001b[39m\u001b[38;5;124m'\u001b[39m], \n\u001b[1;32m      2\u001b[0m                  size \u001b[38;5;241m=\u001b[39m (df[\u001b[38;5;124m'\u001b[39m\u001b[38;5;124mPMI\u001b[39m\u001b[38;5;124m'\u001b[39m]\u001b[38;5;241m+\u001b[39mdf[\u001b[38;5;124m'\u001b[39m\u001b[38;5;124mlog(bi_gram_freq)\u001b[39m\u001b[38;5;124m'\u001b[39m])\u001b[38;5;241m.\u001b[39mapply(\u001b[38;5;28;01mlambda\u001b[39;00m x: \u001b[38;5;241m1\u001b[39m\u001b[38;5;241m/\u001b[39m(\u001b[38;5;241m1\u001b[39m\u001b[38;5;241m+\u001b[39m\u001b[38;5;28mabs\u001b[39m(x)))\u001b[38;5;241m.\u001b[39mvalues, \n\u001b[1;32m      3\u001b[0m                  hover_name \u001b[38;5;241m=\u001b[39m df[\u001b[38;5;124m'\u001b[39m\u001b[38;5;124mbi_gram\u001b[39m\u001b[38;5;124m'\u001b[39m]\u001b[38;5;241m.\u001b[39mvalues, width \u001b[38;5;241m=\u001b[39m \u001b[38;5;241m600\u001b[39m, height \u001b[38;5;241m=\u001b[39m \u001b[38;5;241m600\u001b[39m, labels \u001b[38;5;241m=\u001b[39m {\u001b[38;5;124m'\u001b[39m\u001b[38;5;124mx\u001b[39m\u001b[38;5;124m'\u001b[39m: \u001b[38;5;124m'\u001b[39m\u001b[38;5;124mPMI\u001b[39m\u001b[38;5;124m'\u001b[39m, \u001b[38;5;124m'\u001b[39m\u001b[38;5;124my\u001b[39m\u001b[38;5;124m'\u001b[39m: \u001b[38;5;124m'\u001b[39m\u001b[38;5;124mLog(Bigram Frequency)\u001b[39m\u001b[38;5;124m'\u001b[39m})\n\u001b[0;32m----> 4\u001b[0m \u001b[43mfig\u001b[49m\u001b[38;5;241;43m.\u001b[39;49m\u001b[43mshow\u001b[49m\u001b[43m(\u001b[49m\u001b[43m)\u001b[49m\n",
      "File \u001b[0;32m~/Code/learning/NLTK/.venv/lib/python3.12/site-packages/plotly/basedatatypes.py:3410\u001b[0m, in \u001b[0;36mBaseFigure.show\u001b[0;34m(self, *args, **kwargs)\u001b[0m\n\u001b[1;32m   3377\u001b[0m \u001b[38;5;250m\u001b[39m\u001b[38;5;124;03m\"\"\"\u001b[39;00m\n\u001b[1;32m   3378\u001b[0m \u001b[38;5;124;03mShow a figure using either the default renderer(s) or the renderer(s)\u001b[39;00m\n\u001b[1;32m   3379\u001b[0m \u001b[38;5;124;03mspecified by the renderer argument\u001b[39;00m\n\u001b[0;32m   (...)\u001b[0m\n\u001b[1;32m   3406\u001b[0m \u001b[38;5;124;03mNone\u001b[39;00m\n\u001b[1;32m   3407\u001b[0m \u001b[38;5;124;03m\"\"\"\u001b[39;00m\n\u001b[1;32m   3408\u001b[0m \u001b[38;5;28;01mimport\u001b[39;00m\u001b[38;5;250m \u001b[39m\u001b[38;5;21;01mplotly\u001b[39;00m\u001b[38;5;21;01m.\u001b[39;00m\u001b[38;5;21;01mio\u001b[39;00m\u001b[38;5;250m \u001b[39m\u001b[38;5;28;01mas\u001b[39;00m\u001b[38;5;250m \u001b[39m\u001b[38;5;21;01mpio\u001b[39;00m\n\u001b[0;32m-> 3410\u001b[0m \u001b[38;5;28;01mreturn\u001b[39;00m \u001b[43mpio\u001b[49m\u001b[38;5;241;43m.\u001b[39;49m\u001b[43mshow\u001b[49m\u001b[43m(\u001b[49m\u001b[38;5;28;43mself\u001b[39;49m\u001b[43m,\u001b[49m\u001b[43m \u001b[49m\u001b[38;5;241;43m*\u001b[39;49m\u001b[43margs\u001b[49m\u001b[43m,\u001b[49m\u001b[43m \u001b[49m\u001b[38;5;241;43m*\u001b[39;49m\u001b[38;5;241;43m*\u001b[39;49m\u001b[43mkwargs\u001b[49m\u001b[43m)\u001b[49m\n",
      "File \u001b[0;32m~/Code/learning/NLTK/.venv/lib/python3.12/site-packages/plotly/io/_renderers.py:394\u001b[0m, in \u001b[0;36mshow\u001b[0;34m(fig, renderer, validate, **kwargs)\u001b[0m\n\u001b[1;32m    389\u001b[0m         \u001b[38;5;28;01mraise\u001b[39;00m \u001b[38;5;167;01mValueError\u001b[39;00m(\n\u001b[1;32m    390\u001b[0m             \u001b[38;5;124m\"\u001b[39m\u001b[38;5;124mMime type rendering requires ipython but it is not installed\u001b[39m\u001b[38;5;124m\"\u001b[39m\n\u001b[1;32m    391\u001b[0m         )\n\u001b[1;32m    393\u001b[0m     \u001b[38;5;28;01mif\u001b[39;00m \u001b[38;5;129;01mnot\u001b[39;00m nbformat \u001b[38;5;129;01mor\u001b[39;00m Version(nbformat\u001b[38;5;241m.\u001b[39m__version__) \u001b[38;5;241m<\u001b[39m Version(\u001b[38;5;124m\"\u001b[39m\u001b[38;5;124m4.2.0\u001b[39m\u001b[38;5;124m\"\u001b[39m):\n\u001b[0;32m--> 394\u001b[0m         \u001b[38;5;28;01mraise\u001b[39;00m \u001b[38;5;167;01mValueError\u001b[39;00m(\n\u001b[1;32m    395\u001b[0m             \u001b[38;5;124m\"\u001b[39m\u001b[38;5;124mMime type rendering requires nbformat>=4.2.0 but it is not installed\u001b[39m\u001b[38;5;124m\"\u001b[39m\n\u001b[1;32m    396\u001b[0m         )\n\u001b[1;32m    398\u001b[0m     ipython_display\u001b[38;5;241m.\u001b[39mdisplay(bundle, raw\u001b[38;5;241m=\u001b[39m\u001b[38;5;28;01mTrue\u001b[39;00m)\n\u001b[1;32m    400\u001b[0m \u001b[38;5;66;03m# external renderers\u001b[39;00m\n",
      "\u001b[0;31mValueError\u001b[0m: Mime type rendering requires nbformat>=4.2.0 but it is not installed"
     ]
    }
   ],
   "source": [
    "fig = px.scatter(x = df['PMI'].values, y = df['log(bi_gram_freq)'].values, color = df['PMI']+df['log(bi_gram_freq)'], \n",
    "                 size = (df['PMI']+df['log(bi_gram_freq)']).apply(lambda x: 1/(1+abs(x))).values, \n",
    "                 hover_name = df['bi_gram'].values, width = 600, height = 600, labels = {'x': 'PMI', 'y': 'Log(Bigram Frequency)'})\n",
    "fig.show()"
   ]
  },
  {
   "cell_type": "markdown",
   "metadata": {
    "colab_type": "text",
    "id": "G0a53wvZo673"
   },
   "source": [
    "# Medidas pre-construidas en NLTK"
   ]
  },
  {
   "cell_type": "code",
   "execution_count": 20,
   "metadata": {
    "colab": {},
    "colab_type": "code",
    "id": "PgzViJENnrx7"
   },
   "outputs": [],
   "source": [
    "# ver documentación https://www.nltk.org/_modules/nltk/metrics/association.html\n",
    "from nltk.collocations import *\n",
    "bigram_measures = nltk.collocations.BigramAssocMeasures()\n",
    "finder = BigramCollocationFinder.from_words(text1)"
   ]
  },
  {
   "cell_type": "code",
   "execution_count": 21,
   "metadata": {
    "colab": {
     "base_uri": "https://localhost:8080/",
     "height": 181
    },
    "colab_type": "code",
    "executionInfo": {
     "elapsed": 20153,
     "status": "ok",
     "timestamp": 1582037814353,
     "user": {
      "displayName": "Francisco Camacho",
      "photoUrl": "https://lh3.googleusercontent.com/a-/AAuE7mCUaNNj72-A-ZLpzeOCw1kooH47L4wGZaSy6fUG=s64",
      "userId": "03320326049189164988"
     },
     "user_tz": 300
    },
    "id": "rUUtIcXZrD2V",
    "outputId": "7a5043b0-c30e-4124-9d43-3cdf5f4ffb20"
   },
   "outputs": [
    {
     "data": {
      "text/plain": [
       "[('Moby', 'Dick'),\n",
       " ('Sperm', 'Whale'),\n",
       " ('White', 'Whale'),\n",
       " ('Right', 'Whale'),\n",
       " ('Captain', 'Peleg'),\n",
       " (',\"', 'said'),\n",
       " ('never', 'mind'),\n",
       " ('!\"', 'cried'),\n",
       " ('no', 'means'),\n",
       " ('each', 'other')]"
      ]
     },
     "execution_count": 21,
     "metadata": {},
     "output_type": "execute_result"
    }
   ],
   "source": [
    "finder.apply_freq_filter(20)\n",
    "finder.nbest(bigram_measures.pmi, 10)"
   ]
  },
  {
   "cell_type": "markdown",
   "metadata": {
    "colab_type": "text",
    "id": "CWyDEBtZmCya"
   },
   "source": [
    "# Textos en Español "
   ]
  },
  {
   "cell_type": "code",
   "execution_count": 22,
   "metadata": {
    "colab": {
     "base_uri": "https://localhost:8080/",
     "height": 49
    },
    "colab_type": "code",
    "executionInfo": {
     "elapsed": 22123,
     "status": "ok",
     "timestamp": 1582037816333,
     "user": {
      "displayName": "Francisco Camacho",
      "photoUrl": "https://lh3.googleusercontent.com/a-/AAuE7mCUaNNj72-A-ZLpzeOCw1kooH47L4wGZaSy6fUG=s64",
      "userId": "03320326049189164988"
     },
     "user_tz": 300
    },
    "id": "Eo6Gm1ngmQKB",
    "outputId": "87881b1e-087d-4eab-d76c-1dc1df3ff997"
   },
   "outputs": [
    {
     "name": "stderr",
     "output_type": "stream",
     "text": [
      "[nltk_data] Downloading package cess_esp to\n",
      "[nltk_data]     /Users/miguepoloc/nltk_data...\n",
      "[nltk_data]   Package cess_esp is already up-to-date!\n"
     ]
    }
   ],
   "source": [
    "# descargamos corpus en español  https://mailman.uib.no/public/corpora/2007-October/005448.html\n",
    "nltk.download('cess_esp')\n",
    "corpus = nltk.corpus.cess_esp.sents() \n",
    "flatten_corpus = [w for l in corpus for w in l]"
   ]
  },
  {
   "cell_type": "code",
   "execution_count": 23,
   "metadata": {
    "colab": {
     "base_uri": "https://localhost:8080/",
     "height": 52
    },
    "colab_type": "code",
    "executionInfo": {
     "elapsed": 22112,
     "status": "ok",
     "timestamp": 1582037816335,
     "user": {
      "displayName": "Francisco Camacho",
      "photoUrl": "https://lh3.googleusercontent.com/a-/AAuE7mCUaNNj72-A-ZLpzeOCw1kooH47L4wGZaSy6fUG=s64",
      "userId": "03320326049189164988"
     },
     "user_tz": 300
    },
    "id": "HJYf0w0-m_t3",
    "outputId": "8c60e38e-a519-4134-c7c3-a1b5c85dfa03"
   },
   "outputs": [
    {
     "name": "stdout",
     "output_type": "stream",
     "text": [
      "['El', 'grupo', 'estatal', 'Electricité_de_France', '-Fpa-', 'EDF', '-Fpt-', 'anunció', 'hoy', ',', 'jueves', ',', 'la', 'compra', 'del', '51_por_ciento', 'de', 'la', 'empresa', 'mexicana', 'Electricidad_Águila_de_Altamira', '-Fpa-', 'EAA', '-Fpt-', ',', 'creada', 'por', 'el', 'japonés', 'Mitsubishi_Corporation', 'para', 'poner_en_marcha', 'una', 'central', 'de', 'gas', 'de', '495', 'megavatios', '.']\n"
     ]
    }
   ],
   "source": [
    "print(corpus[0])"
   ]
  },
  {
   "cell_type": "code",
   "execution_count": 24,
   "metadata": {
    "colab": {
     "base_uri": "https://localhost:8080/",
     "height": 52
    },
    "colab_type": "code",
    "executionInfo": {
     "elapsed": 22100,
     "status": "ok",
     "timestamp": 1582037816335,
     "user": {
      "displayName": "Francisco Camacho",
      "photoUrl": "https://lh3.googleusercontent.com/a-/AAuE7mCUaNNj72-A-ZLpzeOCw1kooH47L4wGZaSy6fUG=s64",
      "userId": "03320326049189164988"
     },
     "user_tz": 300
    },
    "id": "rRHahBiOoEvi",
    "outputId": "84948a85-3e7c-4e18-c3f5-f8302b9546ba"
   },
   "outputs": [
    {
     "name": "stdout",
     "output_type": "stream",
     "text": [
      "['El', 'grupo', 'estatal', 'Electricité_de_France', '-Fpa-', 'EDF', '-Fpt-', 'anunció', 'hoy', ',', 'jueves', ',', 'la', 'compra', 'del', '51_por_ciento', 'de', 'la', 'empresa', 'mexicana', 'Electricidad_Águila_de_Altamira', '-Fpa-', 'EAA', '-Fpt-', ',', 'creada', 'por', 'el', 'japonés', 'Mitsubishi_Corporation', 'para', 'poner_en_marcha', 'una', 'central', 'de', 'gas', 'de', '495', 'megavatios', '.', 'Una', 'portavoz', 'de', 'EDF', 'explicó', 'a', 'EFE', 'que', 'el', 'proyecto']\n"
     ]
    }
   ],
   "source": [
    "print(flatten_corpus[:50])"
   ]
  },
  {
   "cell_type": "code",
   "execution_count": 25,
   "metadata": {
    "colab": {
     "base_uri": "https://localhost:8080/",
     "height": 181
    },
    "colab_type": "code",
    "executionInfo": {
     "elapsed": 28977,
     "status": "ok",
     "timestamp": 1582037823223,
     "user": {
      "displayName": "Francisco Camacho",
      "photoUrl": "https://lh3.googleusercontent.com/a-/AAuE7mCUaNNj72-A-ZLpzeOCw1kooH47L4wGZaSy6fUG=s64",
      "userId": "03320326049189164988"
     },
     "user_tz": 300
    },
    "id": "HJWgwrzdoVD7",
    "outputId": "a8938c94-6d8d-4202-aacf-354cf6ed3398"
   },
   "outputs": [
    {
     "data": {
      "text/plain": [
       "[('señora', 'Aguirre'),\n",
       " ('secretario', 'general'),\n",
       " ('elecciones', 'generales'),\n",
       " ('campaña', 'electoral'),\n",
       " ('quiere', 'decir'),\n",
       " ('Se', 'trata'),\n",
       " ('segunda', 'vuelta'),\n",
       " ('director', 'general'),\n",
       " ('primer', 'ministro'),\n",
       " ('primer', 'lugar')]"
      ]
     },
     "execution_count": 25,
     "metadata": {},
     "output_type": "execute_result"
    }
   ],
   "source": [
    "finder = BigramCollocationFinder.from_documents(corpus)\n",
    "finder.apply_freq_filter(10)\n",
    "finder.nbest(bigram_measures.pmi, 10)"
   ]
  },
  {
   "cell_type": "code",
   "execution_count": 0,
   "metadata": {
    "colab": {},
    "colab_type": "code",
    "id": "83Lb4GSk1Qh_"
   },
   "outputs": [],
   "source": []
  },
  {
   "cell_type": "markdown",
   "metadata": {
    "colab_type": "text",
    "id": "G30AGeOX2cCf"
   },
   "source": [
    "# Referencias para seguir aprendiendo\n",
    "\n",
    "\n",
    "*   [Mas sobre Colocaciones con NLTK](http://www.nltk.org/howto/collocations.html)\n",
    "*   \n",
    "\n"
   ]
  }
 ],
 "metadata": {
  "colab": {
   "collapsed_sections": [],
   "name": "[C5]_Language_with_Statistics.ipynb",
   "provenance": [],
   "toc_visible": true
  },
  "kernelspec": {
   "display_name": ".venv",
   "language": "python",
   "name": "python3"
  },
  "language_info": {
   "codemirror_mode": {
    "name": "ipython",
    "version": 3
   },
   "file_extension": ".py",
   "mimetype": "text/x-python",
   "name": "python",
   "nbconvert_exporter": "python",
   "pygments_lexer": "ipython3",
   "version": "3.12.7"
  }
 },
 "nbformat": 4,
 "nbformat_minor": 0
}
